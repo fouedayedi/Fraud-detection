{
 "cells": [
  {
   "cell_type": "code",
   "execution_count": 174,
   "id": "9cc74bd4-c8db-47c1-9dac-457b45c3ab88",
   "metadata": {},
   "outputs": [],
   "source": [
    "import pandas as pd\n",
    "import numpy as np\n",
    "import seaborn as sns\n",
    "import matplotlib.pyplot as plt\n",
    "%matplotlib inline\n",
    "\n",
    "from sklearn.model_selection import train_test_split, KFold"
   ]
  },
  {
   "cell_type": "code",
   "execution_count": 175,
   "id": "bdc1c260-459a-4a3e-ab65-a5e3fa678063",
   "metadata": {},
   "outputs": [],
   "source": [
    "train=pd.read_csv(\"C:\\\\Users\\\\PC\\\\Desktop\\\\fraud detetction\\\\train.csv\")\n",
    "\n",
    "sample=pd.read_csv('C:\\\\Users\\\\PC\\\\Desktop\\\\fraud detetction\\\\sample_submission.csv')"
   ]
  },
  {
   "cell_type": "code",
   "execution_count": 176,
   "id": "49402b3a-475b-48a8-af2c-bba7d0cb7110",
   "metadata": {},
   "outputs": [
    {
     "data": {
      "text/html": [
       "<div>\n",
       "<style scoped>\n",
       "    .dataframe tbody tr th:only-of-type {\n",
       "        vertical-align: middle;\n",
       "    }\n",
       "\n",
       "    .dataframe tbody tr th {\n",
       "        vertical-align: top;\n",
       "    }\n",
       "\n",
       "    .dataframe thead th {\n",
       "        text-align: right;\n",
       "    }\n",
       "</style>\n",
       "<table border=\"1\" class=\"dataframe\">\n",
       "  <thead>\n",
       "    <tr style=\"text-align: right;\">\n",
       "      <th></th>\n",
       "      <th>ID</th>\n",
       "      <th>OFFICE</th>\n",
       "      <th>IMPORTER.TIN</th>\n",
       "      <th>TARIFF.CODE</th>\n",
       "      <th>ORIGIN.CODE</th>\n",
       "      <th>CIF_USD_EQUIVALENT</th>\n",
       "      <th>QUANTITY</th>\n",
       "      <th>GROSS.WEIGHT</th>\n",
       "      <th>TOTAL.TAXES.USD</th>\n",
       "      <th>illicit</th>\n",
       "    </tr>\n",
       "    <tr>\n",
       "      <th>date</th>\n",
       "      <th></th>\n",
       "      <th></th>\n",
       "      <th></th>\n",
       "      <th></th>\n",
       "      <th></th>\n",
       "      <th></th>\n",
       "      <th></th>\n",
       "      <th></th>\n",
       "      <th></th>\n",
       "      <th></th>\n",
       "    </tr>\n",
       "  </thead>\n",
       "  <tbody>\n",
       "    <tr>\n",
       "      <th>2013-01-01</th>\n",
       "      <td>0</td>\n",
       "      <td>OFFICE60</td>\n",
       "      <td>IMP545640</td>\n",
       "      <td>8703232225</td>\n",
       "      <td>CNTRY680</td>\n",
       "      <td>172710.0</td>\n",
       "      <td>1.0</td>\n",
       "      <td>28487.0</td>\n",
       "      <td>3492.0</td>\n",
       "      <td>0</td>\n",
       "    </tr>\n",
       "    <tr>\n",
       "      <th>2013-01-01</th>\n",
       "      <td>1</td>\n",
       "      <td>OFFICE24</td>\n",
       "      <td>IMP252323</td>\n",
       "      <td>8703321220</td>\n",
       "      <td>CNTRY376</td>\n",
       "      <td>7450.0</td>\n",
       "      <td>1.0</td>\n",
       "      <td>185994.0</td>\n",
       "      <td>503.0</td>\n",
       "      <td>0</td>\n",
       "    </tr>\n",
       "    <tr>\n",
       "      <th>2013-01-01</th>\n",
       "      <td>2</td>\n",
       "      <td>OFFICE59</td>\n",
       "      <td>IMP194834</td>\n",
       "      <td>8704212025</td>\n",
       "      <td>CNTRY680</td>\n",
       "      <td>2684.0</td>\n",
       "      <td>1.0</td>\n",
       "      <td>452843.0</td>\n",
       "      <td>5706.0</td>\n",
       "      <td>0</td>\n",
       "    </tr>\n",
       "    <tr>\n",
       "      <th>2013-01-01</th>\n",
       "      <td>3</td>\n",
       "      <td>OFFICE60</td>\n",
       "      <td>IMP668188</td>\n",
       "      <td>3901100000</td>\n",
       "      <td>CNTRY277</td>\n",
       "      <td>7412.0</td>\n",
       "      <td>2018.0</td>\n",
       "      <td>26546.0</td>\n",
       "      <td>3182.0</td>\n",
       "      <td>0</td>\n",
       "    </tr>\n",
       "    <tr>\n",
       "      <th>2013-01-01</th>\n",
       "      <td>4</td>\n",
       "      <td>OFFICE59</td>\n",
       "      <td>IMP395619</td>\n",
       "      <td>8517180000</td>\n",
       "      <td>CNTRY759</td>\n",
       "      <td>2786.0</td>\n",
       "      <td>7044.0</td>\n",
       "      <td>1958.0</td>\n",
       "      <td>587.0</td>\n",
       "      <td>0</td>\n",
       "    </tr>\n",
       "  </tbody>\n",
       "</table>\n",
       "</div>"
      ],
      "text/plain": [
       "            ID    OFFICE IMPORTER.TIN  TARIFF.CODE ORIGIN.CODE  \\\n",
       "date                                                             \n",
       "2013-01-01   0  OFFICE60    IMP545640   8703232225    CNTRY680   \n",
       "2013-01-01   1  OFFICE24    IMP252323   8703321220    CNTRY376   \n",
       "2013-01-01   2  OFFICE59    IMP194834   8704212025    CNTRY680   \n",
       "2013-01-01   3  OFFICE60    IMP668188   3901100000    CNTRY277   \n",
       "2013-01-01   4  OFFICE59    IMP395619   8517180000    CNTRY759   \n",
       "\n",
       "            CIF_USD_EQUIVALENT  QUANTITY  GROSS.WEIGHT  TOTAL.TAXES.USD  \\\n",
       "date                                                                      \n",
       "2013-01-01            172710.0       1.0       28487.0           3492.0   \n",
       "2013-01-01              7450.0       1.0      185994.0            503.0   \n",
       "2013-01-01              2684.0       1.0      452843.0           5706.0   \n",
       "2013-01-01              7412.0    2018.0       26546.0           3182.0   \n",
       "2013-01-01              2786.0    7044.0        1958.0            587.0   \n",
       "\n",
       "            illicit  \n",
       "date                 \n",
       "2013-01-01        0  \n",
       "2013-01-01        0  \n",
       "2013-01-01        0  \n",
       "2013-01-01        0  \n",
       "2013-01-01        0  "
      ]
     },
     "execution_count": 176,
     "metadata": {},
     "output_type": "execute_result"
    }
   ],
   "source": [
    "indexedDataset = train.set_index(['date'])\n",
    "indexedDataset.head(5)"
   ]
  },
  {
   "cell_type": "code",
   "execution_count": 177,
   "id": "0b9ce8e2-e5bd-4b78-be6b-bc315475a4a1",
   "metadata": {},
   "outputs": [],
   "source": [
    "df=train.copy()"
   ]
  },
  {
   "cell_type": "code",
   "execution_count": 178,
   "id": "4504c785-a1cc-41e6-bef9-9984772bcf56",
   "metadata": {},
   "outputs": [],
   "source": [
    "train['OFFICE'].astype(str)\n",
    "for i, row in train.iterrows():\n",
    "    ifor_val = int(train['OFFICE'][i][6:8:1])\n",
    "    df.at[i,'OFFICE']=ifor_val\n"
   ]
  },
  {
   "cell_type": "code",
   "execution_count": 179,
   "id": "121ac80b-1dd9-4ab7-b1b3-c4deb4ba0d8c",
   "metadata": {},
   "outputs": [],
   "source": [
    "df['OFFICE']=df['OFFICE'].astype(int)"
   ]
  },
  {
   "cell_type": "code",
   "execution_count": 180,
   "id": "f4a23f54-a892-447a-b40f-711356dd9e80",
   "metadata": {},
   "outputs": [],
   "source": [
    "df.ffill(axis = 0,inplace=True)"
   ]
  },
  {
   "cell_type": "code",
   "execution_count": 181,
   "id": "881a8e2c-49b4-48ec-a5fd-197bf1359706",
   "metadata": {},
   "outputs": [],
   "source": [
    "df_indexed=df.set_index(['date'])"
   ]
  },
  {
   "cell_type": "code",
   "execution_count": 182,
   "id": "d29447e3-3d22-41d5-8100-a26ef1abc086",
   "metadata": {},
   "outputs": [
    {
     "name": "stdout",
     "output_type": "stream",
     "text": [
      "<class 'pandas.core.frame.DataFrame'>\n",
      "RangeIndex: 160000 entries, 0 to 159999\n",
      "Data columns (total 11 columns):\n",
      " #   Column              Non-Null Count   Dtype  \n",
      "---  ------              --------------   -----  \n",
      " 0   ID                  160000 non-null  int64  \n",
      " 1   OFFICE              160000 non-null  int32  \n",
      " 2   IMPORTER.TIN        160000 non-null  object \n",
      " 3   TARIFF.CODE         160000 non-null  int64  \n",
      " 4   ORIGIN.CODE         160000 non-null  int32  \n",
      " 5   CIF_USD_EQUIVALENT  160000 non-null  float64\n",
      " 6   QUANTITY            160000 non-null  float64\n",
      " 7   GROSS.WEIGHT        160000 non-null  float64\n",
      " 8   TOTAL.TAXES.USD     160000 non-null  float64\n",
      " 9   illicit             160000 non-null  int64  \n",
      " 10  date                160000 non-null  object \n",
      "dtypes: float64(4), int32(2), int64(3), object(2)\n",
      "memory usage: 12.2+ MB\n"
     ]
    }
   ],
   "source": [
    "train['ORIGIN.CODE'].astype(str)\n",
    "for i, row in train.iterrows():\n",
    "    ifor_val = int(train['ORIGIN.CODE'][i][5:8:1])\n",
    "    df.at[i,'ORIGIN.CODE']=ifor_val\n",
    "df['ORIGIN.CODE']=df['ORIGIN.CODE'].astype(int)\n",
    "df.info()"
   ]
  },
  {
   "cell_type": "code",
   "execution_count": 183,
   "id": "201bade1-2b63-4488-9239-23bb3d37c96b",
   "metadata": {},
   "outputs": [],
   "source": [
    "new_dataset=df.copy()"
   ]
  },
  {
   "cell_type": "code",
   "execution_count": 184,
   "id": "0a9e3492-b55e-4910-a908-a58cef6a71c1",
   "metadata": {},
   "outputs": [],
   "source": [
    "#Parse strings to datetime type\n",
    "new_dataset['date'] = pd.to_datetime(new_dataset['date'],infer_datetime_format=True) #convert "
   ]
  },
  {
   "cell_type": "code",
   "execution_count": 185,
   "id": "6e20f7b5-2228-4305-8ab4-62f4deed31d5",
   "metadata": {},
   "outputs": [],
   "source": [
    "# Extract day, month year and hour from the Datetime column\n",
    "# day\n",
    "new_dataset['Datetime_day'] = new_dataset.date.dt.day\n",
    "\n",
    "# month\n",
    "new_dataset['Datetime_month'] = new_dataset.date.dt.month\n",
    " \n",
    "\n",
    "new_dataset['Datetime_year'] = new_dataset.date.dt.year\n",
    "\n"
   ]
  },
  {
   "cell_type": "code",
   "execution_count": 186,
   "id": "c02a0456-a4b1-47b9-a8bd-d7af5a48a31f",
   "metadata": {},
   "outputs": [],
   "source": [
    "new_dataset.drop(\"date\", axis = 1, inplace = True)"
   ]
  },
  {
   "cell_type": "code",
   "execution_count": 187,
   "id": "c2e524fd-51a5-4eb5-bbcb-7ee7d925beb7",
   "metadata": {},
   "outputs": [
    {
     "data": {
      "text/html": [
       "<div>\n",
       "<style scoped>\n",
       "    .dataframe tbody tr th:only-of-type {\n",
       "        vertical-align: middle;\n",
       "    }\n",
       "\n",
       "    .dataframe tbody tr th {\n",
       "        vertical-align: top;\n",
       "    }\n",
       "\n",
       "    .dataframe thead th {\n",
       "        text-align: right;\n",
       "    }\n",
       "</style>\n",
       "<table border=\"1\" class=\"dataframe\">\n",
       "  <thead>\n",
       "    <tr style=\"text-align: right;\">\n",
       "      <th></th>\n",
       "      <th>ID</th>\n",
       "      <th>OFFICE</th>\n",
       "      <th>IMPORTER.TIN</th>\n",
       "      <th>TARIFF.CODE</th>\n",
       "      <th>ORIGIN.CODE</th>\n",
       "      <th>CIF_USD_EQUIVALENT</th>\n",
       "      <th>QUANTITY</th>\n",
       "      <th>GROSS.WEIGHT</th>\n",
       "      <th>TOTAL.TAXES.USD</th>\n",
       "      <th>illicit</th>\n",
       "      <th>Datetime_day</th>\n",
       "      <th>Datetime_month</th>\n",
       "      <th>Datetime_year</th>\n",
       "    </tr>\n",
       "  </thead>\n",
       "  <tbody>\n",
       "    <tr>\n",
       "      <th>0</th>\n",
       "      <td>0</td>\n",
       "      <td>60</td>\n",
       "      <td>IMP545640</td>\n",
       "      <td>8703232225</td>\n",
       "      <td>680</td>\n",
       "      <td>172710.0</td>\n",
       "      <td>1.0</td>\n",
       "      <td>28487.0</td>\n",
       "      <td>3492.0</td>\n",
       "      <td>0</td>\n",
       "      <td>1</td>\n",
       "      <td>1</td>\n",
       "      <td>2013</td>\n",
       "    </tr>\n",
       "    <tr>\n",
       "      <th>1</th>\n",
       "      <td>1</td>\n",
       "      <td>24</td>\n",
       "      <td>IMP252323</td>\n",
       "      <td>8703321220</td>\n",
       "      <td>376</td>\n",
       "      <td>7450.0</td>\n",
       "      <td>1.0</td>\n",
       "      <td>185994.0</td>\n",
       "      <td>503.0</td>\n",
       "      <td>0</td>\n",
       "      <td>1</td>\n",
       "      <td>1</td>\n",
       "      <td>2013</td>\n",
       "    </tr>\n",
       "    <tr>\n",
       "      <th>2</th>\n",
       "      <td>2</td>\n",
       "      <td>59</td>\n",
       "      <td>IMP194834</td>\n",
       "      <td>8704212025</td>\n",
       "      <td>680</td>\n",
       "      <td>2684.0</td>\n",
       "      <td>1.0</td>\n",
       "      <td>452843.0</td>\n",
       "      <td>5706.0</td>\n",
       "      <td>0</td>\n",
       "      <td>1</td>\n",
       "      <td>1</td>\n",
       "      <td>2013</td>\n",
       "    </tr>\n",
       "    <tr>\n",
       "      <th>3</th>\n",
       "      <td>3</td>\n",
       "      <td>60</td>\n",
       "      <td>IMP668188</td>\n",
       "      <td>3901100000</td>\n",
       "      <td>277</td>\n",
       "      <td>7412.0</td>\n",
       "      <td>2018.0</td>\n",
       "      <td>26546.0</td>\n",
       "      <td>3182.0</td>\n",
       "      <td>0</td>\n",
       "      <td>1</td>\n",
       "      <td>1</td>\n",
       "      <td>2013</td>\n",
       "    </tr>\n",
       "    <tr>\n",
       "      <th>4</th>\n",
       "      <td>4</td>\n",
       "      <td>59</td>\n",
       "      <td>IMP395619</td>\n",
       "      <td>8517180000</td>\n",
       "      <td>759</td>\n",
       "      <td>2786.0</td>\n",
       "      <td>7044.0</td>\n",
       "      <td>1958.0</td>\n",
       "      <td>587.0</td>\n",
       "      <td>0</td>\n",
       "      <td>1</td>\n",
       "      <td>1</td>\n",
       "      <td>2013</td>\n",
       "    </tr>\n",
       "  </tbody>\n",
       "</table>\n",
       "</div>"
      ],
      "text/plain": [
       "   ID  OFFICE IMPORTER.TIN  TARIFF.CODE  ORIGIN.CODE  CIF_USD_EQUIVALENT  \\\n",
       "0   0      60    IMP545640   8703232225          680            172710.0   \n",
       "1   1      24    IMP252323   8703321220          376              7450.0   \n",
       "2   2      59    IMP194834   8704212025          680              2684.0   \n",
       "3   3      60    IMP668188   3901100000          277              7412.0   \n",
       "4   4      59    IMP395619   8517180000          759              2786.0   \n",
       "\n",
       "   QUANTITY  GROSS.WEIGHT  TOTAL.TAXES.USD  illicit  Datetime_day  \\\n",
       "0       1.0       28487.0           3492.0        0             1   \n",
       "1       1.0      185994.0            503.0        0             1   \n",
       "2       1.0      452843.0           5706.0        0             1   \n",
       "3    2018.0       26546.0           3182.0        0             1   \n",
       "4    7044.0        1958.0            587.0        0             1   \n",
       "\n",
       "   Datetime_month  Datetime_year  \n",
       "0               1           2013  \n",
       "1               1           2013  \n",
       "2               1           2013  \n",
       "3               1           2013  \n",
       "4               1           2013  "
      ]
     },
     "execution_count": 187,
     "metadata": {},
     "output_type": "execute_result"
    }
   ],
   "source": [
    "new_dataset.head()"
   ]
  },
  {
   "cell_type": "code",
   "execution_count": 188,
   "id": "89a96cda-32ac-429c-8b9b-f53af754429b",
   "metadata": {},
   "outputs": [],
   "source": [
    "new_dataset1=new_dataset.copy()"
   ]
  },
  {
   "cell_type": "code",
   "execution_count": 189,
   "id": "529e6b77-333e-4518-9416-d56659b8fff0",
   "metadata": {},
   "outputs": [],
   "source": [
    "new_dataset['IMPORTER.TIN'].astype(str)\n",
    "for i, row in new_dataset.iterrows():\n",
    "    if (new_dataset['IMPORTER.TIN'][i][0:4]=='IMPO'):\n",
    "        ifor_val = new_dataset['IMPORTER.TIN'][i][4:9:1]\n",
    "    else :\n",
    "        ifor_val =new_dataset['IMPORTER.TIN'][i][3:9:1]\n",
    "    new_dataset1.at[i,'IMPORTER.TIN']=ifor_val"
   ]
  },
  {
   "cell_type": "code",
   "execution_count": 190,
   "id": "bf80185b-3fe5-49ac-b3ac-3ed86fd273ae",
   "metadata": {},
   "outputs": [],
   "source": [
    "new_dataset1['IMPORTER.TIN']=new_dataset1['IMPORTER.TIN'].astype(int)"
   ]
  },
  {
   "cell_type": "code",
   "execution_count": 191,
   "id": "df6a4684-17a8-45ab-983a-5d9c64a0e1f8",
   "metadata": {},
   "outputs": [],
   "source": [
    "features = new_dataset1.drop(columns=['illicit']).columns"
   ]
  },
  {
   "cell_type": "code",
   "execution_count": 192,
   "id": "5d07d753-9912-4d9c-8744-495acab21256",
   "metadata": {},
   "outputs": [
    {
     "data": {
      "text/plain": [
       "0    11203\n",
       "1    11203\n",
       "Name: illicit, dtype: int64"
      ]
     },
     "execution_count": 192,
     "metadata": {},
     "output_type": "execute_result"
    }
   ],
   "source": [
    "from imblearn.under_sampling import RandomUnderSampler\n",
    "\n",
    "rus = RandomUnderSampler(random_state=888)\n",
    "X_resampled, y_resampled = rus.fit_resample(new_dataset1[features], new_dataset1['illicit'])\n",
    "\n",
    "y_resampled.value_counts()"
   ]
  },
  {
   "cell_type": "code",
   "execution_count": 193,
   "id": "785752c6-5a05-48e1-a289-ba09c484fe0f",
   "metadata": {},
   "outputs": [
    {
     "name": "stdout",
     "output_type": "stream",
     "text": [
      "<class 'pandas.core.frame.DataFrame'>\n",
      "RangeIndex: 160000 entries, 0 to 159999\n",
      "Data columns (total 13 columns):\n",
      " #   Column              Non-Null Count   Dtype  \n",
      "---  ------              --------------   -----  \n",
      " 0   ID                  160000 non-null  int64  \n",
      " 1   OFFICE              160000 non-null  int32  \n",
      " 2   IMPORTER.TIN        160000 non-null  int32  \n",
      " 3   TARIFF.CODE         160000 non-null  int64  \n",
      " 4   ORIGIN.CODE         160000 non-null  int32  \n",
      " 5   CIF_USD_EQUIVALENT  160000 non-null  float64\n",
      " 6   QUANTITY            160000 non-null  float64\n",
      " 7   GROSS.WEIGHT        160000 non-null  float64\n",
      " 8   TOTAL.TAXES.USD     160000 non-null  float64\n",
      " 9   illicit             160000 non-null  int64  \n",
      " 10  Datetime_day        160000 non-null  int64  \n",
      " 11  Datetime_month      160000 non-null  int64  \n",
      " 12  Datetime_year       160000 non-null  int64  \n",
      "dtypes: float64(4), int32(3), int64(6)\n",
      "memory usage: 14.0 MB\n"
     ]
    }
   ],
   "source": [
    "new_dataset1.info()"
   ]
  },
  {
   "cell_type": "code",
   "execution_count": 194,
   "id": "89461e39-5c65-46bf-8198-76f12528ecad",
   "metadata": {},
   "outputs": [],
   "source": [
    "test=pd.read_csv('C:\\\\Users\\\\PC\\\\Desktop\\\\fraud detetction\\\\test.csv')"
   ]
  },
  {
   "cell_type": "code",
   "execution_count": 195,
   "id": "8af60eba-555f-4f3e-92c4-9a221750fb80",
   "metadata": {},
   "outputs": [],
   "source": [
    "test1=test.copy()"
   ]
  },
  {
   "cell_type": "code",
   "execution_count": 196,
   "id": "8b7bbda3-9c5f-4c33-a657-0f0e04748dd5",
   "metadata": {},
   "outputs": [],
   "source": [
    "test['OFFICE'].astype(str)\n",
    "for i, row in test.iterrows():\n",
    "    ifor_val = test['OFFICE'][i][6:8:1]\n",
    "    test1.at[i,'OFFICE']=ifor_val\n"
   ]
  },
  {
   "cell_type": "code",
   "execution_count": 197,
   "id": "f8dac7a8-6f7a-4c18-83b7-23be35f66021",
   "metadata": {},
   "outputs": [],
   "source": [
    "test1['OFFICE']=test1['OFFICE'].astype(int)"
   ]
  },
  {
   "cell_type": "code",
   "execution_count": 198,
   "id": "d2827899-6ed7-4f69-8221-63f3016ff9a6",
   "metadata": {},
   "outputs": [],
   "source": [
    "test['IMPORTER.TIN'].astype(str)\n",
    "for i, row in test.iterrows():\n",
    "    if (test['IMPORTER.TIN'][i][0:4]=='IMPO'):\n",
    "        ifor_val = test['IMPORTER.TIN'][i][4:9:1]\n",
    "    else :\n",
    "        ifor_val = test['IMPORTER.TIN'][i][3:9:1]\n",
    "    test1.at[i,'IMPORTER.TIN']=ifor_val\n",
    "\n"
   ]
  },
  {
   "cell_type": "code",
   "execution_count": 199,
   "id": "bccac0ee-1ead-4a2f-aa90-aa87a47e2e53",
   "metadata": {},
   "outputs": [],
   "source": [
    "test1['IMPORTER.TIN']=test1['IMPORTER.TIN'].astype(int)"
   ]
  },
  {
   "cell_type": "code",
   "execution_count": 200,
   "id": "84ae68b6-f0ba-49ef-a643-175ad3f716fe",
   "metadata": {},
   "outputs": [],
   "source": [
    "test['ORIGIN.CODE'].astype(str)\n",
    "for i, row in test.iterrows():\n",
    "    ifor_val = test['ORIGIN.CODE'][i][5:8:1]\n",
    "    test1.at[i,'ORIGIN.CODE']=ifor_val\n",
    "test1['ORIGIN.CODE']=test1['ORIGIN.CODE'].astype(int)"
   ]
  },
  {
   "cell_type": "code",
   "execution_count": 201,
   "id": "aa0fa4b0-03dd-4cf4-879e-da36d8c5e363",
   "metadata": {},
   "outputs": [],
   "source": [
    "test1.ffill(axis = 0,inplace=True)"
   ]
  },
  {
   "cell_type": "code",
   "execution_count": 202,
   "id": "8e7ed288-2e26-48ce-a503-e625c24fb3b8",
   "metadata": {},
   "outputs": [
    {
     "name": "stdout",
     "output_type": "stream",
     "text": [
      "<class 'pandas.core.frame.DataFrame'>\n",
      "RangeIndex: 40000 entries, 0 to 39999\n",
      "Data columns (total 12 columns):\n",
      " #   Column              Non-Null Count  Dtype  \n",
      "---  ------              --------------  -----  \n",
      " 0   ID                  40000 non-null  int64  \n",
      " 1   OFFICE              40000 non-null  int32  \n",
      " 2   IMPORTER.TIN        40000 non-null  int32  \n",
      " 3   TARIFF.CODE         40000 non-null  int64  \n",
      " 4   ORIGIN.CODE         40000 non-null  int32  \n",
      " 5   CIF_USD_EQUIVALENT  40000 non-null  float64\n",
      " 6   QUANTITY            40000 non-null  float64\n",
      " 7   GROSS.WEIGHT        40000 non-null  float64\n",
      " 8   TOTAL.TAXES.USD     40000 non-null  float64\n",
      " 9   Datetime_day        40000 non-null  int64  \n",
      " 10  Datetime_month      40000 non-null  int64  \n",
      " 11  Datetime_year       40000 non-null  int64  \n",
      "dtypes: float64(4), int32(3), int64(5)\n",
      "memory usage: 3.2 MB\n"
     ]
    }
   ],
   "source": [
    "\n",
    "test1['date'] = pd.to_datetime(test1['date'],infer_datetime_format=True) #convert \n",
    "\n",
    "# Extract day, month year and hour from the Datetime column\n",
    "# day\n",
    "test1['Datetime_day'] = test1.date.dt.day\n",
    "\n",
    "# month\n",
    "test1['Datetime_month'] = test1.date.dt.month\n",
    " \n",
    "\n",
    "test1['Datetime_year'] = test1.date.dt.year\n",
    "\n",
    "test1.drop(\"date\", axis = 1, inplace = True)\n",
    "\n",
    "test1.info()"
   ]
  },
  {
   "cell_type": "code",
   "execution_count": 203,
   "id": "13d026af-439f-4c5f-a93c-26d26de760ac",
   "metadata": {},
   "outputs": [],
   "source": [
    "colums=[\"OFFICE\",\"IMPORTER.TIN\",\"TARIFF.CODE\",\"ORIGIN.CODE\",\"CIF_USD_EQUIVALENT\",\"QUANTITY\",\"GROSS.WEIGHT\",\"TOTAL.TAXES.USD\",\"Datetime_day\",\"Datetime_month\",\"Datetime_year\"]\n"
   ]
  },
  {
   "cell_type": "code",
   "execution_count": 204,
   "id": "e37ecdb8-5e3e-4c14-b592-0aa570eceb4c",
   "metadata": {},
   "outputs": [
    {
     "name": "stdout",
     "output_type": "stream",
     "text": [
      "<class 'pandas.core.frame.DataFrame'>\n",
      "RangeIndex: 160000 entries, 0 to 159999\n",
      "Data columns (total 11 columns):\n",
      " #   Column              Non-Null Count   Dtype  \n",
      "---  ------              --------------   -----  \n",
      " 0   ID                  160000 non-null  int64  \n",
      " 1   OFFICE              160000 non-null  object \n",
      " 2   IMPORTER.TIN        160000 non-null  object \n",
      " 3   TARIFF.CODE         160000 non-null  int64  \n",
      " 4   ORIGIN.CODE         160000 non-null  object \n",
      " 5   CIF_USD_EQUIVALENT  160000 non-null  float64\n",
      " 6   QUANTITY            160000 non-null  float64\n",
      " 7   GROSS.WEIGHT        160000 non-null  float64\n",
      " 8   TOTAL.TAXES.USD     160000 non-null  float64\n",
      " 9   illicit             160000 non-null  int64  \n",
      " 10  date                157244 non-null  object \n",
      "dtypes: float64(4), int64(3), object(4)\n",
      "memory usage: 13.4+ MB\n"
     ]
    }
   ],
   "source": [
    "train.info()"
   ]
  },
  {
   "cell_type": "code",
   "execution_count": 205,
   "id": "3520f5b1-26d5-4447-8e6d-5c4325cd1e51",
   "metadata": {},
   "outputs": [],
   "source": [
    "X=new_dataset1[colums]\n",
    "y=new_dataset1.illicit"
   ]
  },
  {
   "cell_type": "code",
   "execution_count": 206,
   "id": "61642b56-c2c9-4a6e-85b0-d84083e70fca",
   "metadata": {},
   "outputs": [],
   "source": [
    "X_train,X_test,y_train,y_test = train_test_split(X,y,test_size=0.33,random_state=42)"
   ]
  },
  {
   "cell_type": "code",
   "execution_count": 207,
   "id": "431be8b9-b4c8-4cf7-96dc-ce764c62fd41",
   "metadata": {},
   "outputs": [],
   "source": [
    "from lightgbm import LGBMClassifier"
   ]
  },
  {
   "cell_type": "code",
   "execution_count": 208,
   "id": "8da3a3cf-40d5-4f67-a60c-17eb6deceee9",
   "metadata": {},
   "outputs": [
    {
     "data": {
      "text/plain": [
       "LGBMClassifier()"
      ]
     },
     "execution_count": 208,
     "metadata": {},
     "output_type": "execute_result"
    }
   ],
   "source": [
    "clf=LGBMClassifier()\n",
    "clf.fit(X_train,y_train)\n"
   ]
  },
  {
   "cell_type": "code",
   "execution_count": 209,
   "id": "b5d675f4-0b94-44ce-948f-be23674605d5",
   "metadata": {},
   "outputs": [],
   "source": [
    "from sklearn.metrics import auc, classification_report, roc_auc_score\n"
   ]
  },
  {
   "cell_type": "code",
   "execution_count": 210,
   "id": "8345d5e0-d919-4044-bb8d-a9a80acc682e",
   "metadata": {},
   "outputs": [
    {
     "name": "stdout",
     "output_type": "stream",
     "text": [
      "0.6702946990111216\n"
     ]
    }
   ],
   "source": [
    "y_pred=clf.predict(X_test)\n",
    "print(roc_auc_score(y_pred,y_test))"
   ]
  },
  {
   "cell_type": "code",
   "execution_count": 211,
   "id": "e2d7c3d1-1ea4-4f20-b109-946c76bf8a60",
   "metadata": {},
   "outputs": [],
   "source": [
    "test_df = test1[colums]\n",
    "lgbm_Predictions = clf.predict(test_df)"
   ]
  },
  {
   "cell_type": "code",
   "execution_count": 212,
   "id": "6b67a8e7-1a15-4742-a4f5-d352ed99de9b",
   "metadata": {},
   "outputs": [],
   "source": [
    "sample['illicit']=clf.predict(test1[colums])"
   ]
  },
  {
   "cell_type": "code",
   "execution_count": 213,
   "id": "edd06d16-9a7a-4bbf-ab1a-538a36a756b8",
   "metadata": {},
   "outputs": [],
   "source": [
    "submission_lgbm = pd.DataFrame()\n",
    "submission_lgbm['ID'] = test1['ID']\n",
    "submission_lgbm['illicit'] = sample['illicit']\n",
    "submission_lgbm['illicit'] = submission_lgbm['illicit'].astype('int')"
   ]
  },
  {
   "cell_type": "code",
   "execution_count": 214,
   "id": "4bae4888-71c5-4eff-a040-543445a699bd",
   "metadata": {},
   "outputs": [],
   "source": [
    "# Create file\n",
    "submission_lgbm.to_csv('lgbm.csv', index = False)"
   ]
  },
  {
   "cell_type": "code",
   "execution_count": null,
   "id": "312b9b62-ef24-4696-bdbd-5da537b2bcc7",
   "metadata": {},
   "outputs": [],
   "source": []
  }
 ],
 "metadata": {
  "kernelspec": {
   "display_name": "Python 3 (ipykernel)",
   "language": "python",
   "name": "python3"
  },
  "language_info": {
   "codemirror_mode": {
    "name": "ipython",
    "version": 3
   },
   "file_extension": ".py",
   "mimetype": "text/x-python",
   "name": "python",
   "nbconvert_exporter": "python",
   "pygments_lexer": "ipython3",
   "version": "3.9.7"
  }
 },
 "nbformat": 4,
 "nbformat_minor": 5
}
